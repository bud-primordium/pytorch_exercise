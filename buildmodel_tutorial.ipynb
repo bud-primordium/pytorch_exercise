{
  "cells": [
    {
      "cell_type": "markdown",
      "metadata": {
        "id": "view-in-github",
        "colab_type": "text"
      },
      "source": [
        "<a href=\"https://colab.research.google.com/github/bud-primordium/pytorch_exercise/blob/main/buildmodel_tutorial.ipynb\" target=\"_parent\"><img src=\"https://colab.research.google.com/assets/colab-badge.svg\" alt=\"Open In Colab\"/></a>"
      ]
    },
    {
      "cell_type": "code",
      "execution_count": null,
      "metadata": {
        "id": "jrwFHOxJJxrw"
      },
      "outputs": [],
      "source": [
        "# For tips on running notebooks in Google Colab, see\n",
        "# https://pytorch.org/tutorials/beginner/colab\n",
        "%matplotlib inline"
      ]
    },
    {
      "cell_type": "markdown",
      "metadata": {
        "id": "PlsdFzTYJxrz"
      },
      "source": [
        "[Learn the Basics](intro.html) \\|\\|\n",
        "[Quickstart](quickstart_tutorial.html) \\|\\|\n",
        "[Tensors](tensorqs_tutorial.html) \\|\\| [Datasets &\n",
        "DataLoaders](data_tutorial.html) \\|\\|\n",
        "[Transforms](transforms_tutorial.html) \\|\\| **Build Model** \\|\\|\n",
        "[Autograd](autogradqs_tutorial.html) \\|\\|\n",
        "[Optimization](optimization_tutorial.html) \\|\\| [Save & Load\n",
        "Model](saveloadrun_tutorial.html)\n",
        "\n",
        "Build the Neural Network\n",
        "========================\n",
        "\n",
        "Neural networks comprise of layers/modules that perform operations on\n",
        "data. The [torch.nn](https://pytorch.org/docs/stable/nn.html) namespace\n",
        "provides all the building blocks you need to build your own neural\n",
        "network. Every module in PyTorch subclasses the\n",
        "[nn.Module](https://pytorch.org/docs/stable/generated/torch.nn.Module.html).\n",
        "A neural network is a module itself that consists of other modules\n",
        "(layers). This nested structure allows for building and managing complex\n",
        "architectures easily.\n",
        "\n",
        "In the following sections, we\\'ll build a neural network to classify\n",
        "images in the FashionMNIST dataset.\n"
      ]
    },
    {
      "cell_type": "code",
      "execution_count": 1,
      "metadata": {
        "id": "KnBNG-q5Jxr0"
      },
      "outputs": [],
      "source": [
        "import os\n",
        "import torch\n",
        "from torch import nn\n",
        "from torch.utils.data import DataLoader\n",
        "from torchvision import datasets, transforms"
      ]
    },
    {
      "cell_type": "markdown",
      "metadata": {
        "id": "EUWHa0E4Jxr1"
      },
      "source": [
        "Get Device for Training\n",
        "=======================\n",
        "\n",
        "We want to be able to train our model on an\n",
        "[accelerator](https://pytorch.org/docs/stable/torch.html#accelerators)\n",
        "such as CUDA, MPS, MTIA, or XPU. If the current accelerator is\n",
        "available, we will use it. Otherwise, we use the CPU.\n"
      ]
    },
    {
      "cell_type": "code",
      "execution_count": 2,
      "metadata": {
        "id": "SmsipQETJxr1",
        "outputId": "76a3dd92-0064-42d2-e309-2c794a283039",
        "colab": {
          "base_uri": "https://localhost:8080/"
        }
      },
      "outputs": [
        {
          "output_type": "stream",
          "name": "stdout",
          "text": [
            "Using cuda device\n"
          ]
        }
      ],
      "source": [
        "device = torch.accelerator.current_accelerator().type if torch.accelerator.is_available() else \"cpu\"\n",
        "print(f\"Using {device} device\")"
      ]
    },
    {
      "cell_type": "markdown",
      "metadata": {
        "id": "FPUY1mfSJxr1"
      },
      "source": [
        "Define the Class\n",
        "================\n",
        "\n",
        "We define our neural network by subclassing `nn.Module`, and initialize\n",
        "the neural network layers in `__init__`. Every `nn.Module` subclass\n",
        "implements the operations on input data in the `forward` method.\n"
      ]
    },
    {
      "cell_type": "code",
      "execution_count": 3,
      "metadata": {
        "id": "w87OwJWIJxr1"
      },
      "outputs": [],
      "source": [
        "class NeuralNetwork(nn.Module):\n",
        "    def __init__(self):\n",
        "        super().__init__()\n",
        "        self.flatten = nn.Flatten()\n",
        "        self.linear_relu_stack = nn.Sequential(\n",
        "            nn.Linear(28*28, 512),\n",
        "            nn.ReLU(),\n",
        "            nn.Linear(512, 512),\n",
        "            nn.ReLU(),\n",
        "            nn.Linear(512, 10),\n",
        "        )\n",
        "\n",
        "    def forward(self, x):\n",
        "        x = self.flatten(x)\n",
        "        logits = self.linear_relu_stack(x)\n",
        "        return logits"
      ]
    },
    {
      "cell_type": "markdown",
      "metadata": {
        "id": "OTOKO2CtJxr1"
      },
      "source": [
        "We create an instance of `NeuralNetwork`, and move it to the `device`,\n",
        "and print its structure.\n"
      ]
    },
    {
      "cell_type": "code",
      "execution_count": 4,
      "metadata": {
        "id": "wHUiyyhVJxr2",
        "outputId": "1ef80341-38c3-45cc-b464-1dda7251e59a",
        "colab": {
          "base_uri": "https://localhost:8080/"
        }
      },
      "outputs": [
        {
          "output_type": "stream",
          "name": "stdout",
          "text": [
            "NeuralNetwork(\n",
            "  (flatten): Flatten(start_dim=1, end_dim=-1)\n",
            "  (linear_relu_stack): Sequential(\n",
            "    (0): Linear(in_features=784, out_features=512, bias=True)\n",
            "    (1): ReLU()\n",
            "    (2): Linear(in_features=512, out_features=512, bias=True)\n",
            "    (3): ReLU()\n",
            "    (4): Linear(in_features=512, out_features=10, bias=True)\n",
            "  )\n",
            ")\n"
          ]
        }
      ],
      "source": [
        "model = NeuralNetwork().to(device)\n",
        "print(model)"
      ]
    },
    {
      "cell_type": "markdown",
      "metadata": {
        "id": "nh51MdoRJxr2"
      },
      "source": [
        "To use the model, we pass it the input data. This executes the model\\'s\n",
        "`forward`, along with some [background\n",
        "operations](https://github.com/pytorch/pytorch/blob/270111b7b611d174967ed204776985cefca9c144/torch/nn/modules/module.py#L866).\n",
        "Do not call `model.forward()` directly!\n",
        "\n",
        "Calling the model on the input returns a 2-dimensional tensor with dim=0\n",
        "corresponding to each output of 10 raw predicted values for each class,\n",
        "and dim=1 corresponding to the individual values of each output. We get\n",
        "the prediction probabilities by passing it through an instance of the\n",
        "`nn.Softmax` module.\n"
      ]
    },
    {
      "cell_type": "code",
      "execution_count": 16,
      "metadata": {
        "id": "zMvwyXurJxr2",
        "outputId": "1bd77d1c-61d1-41f3-de7b-33e1e56a20b3",
        "colab": {
          "base_uri": "https://localhost:8080/"
        }
      },
      "outputs": [
        {
          "output_type": "stream",
          "name": "stdout",
          "text": [
            "Predicted class: tensor([6], device='cuda:0')\n"
          ]
        }
      ],
      "source": [
        "X = torch.rand(1, 28, 28, device=device)\n",
        "logits = model(X)\n",
        "pred_probab = nn.Softmax(dim=1)(logits)\n",
        "y_pred = pred_probab.argmax(1)\n",
        "print(f\"Predicted class: {y_pred}\")"
      ]
    },
    {
      "cell_type": "code",
      "source": [
        "print(logits)"
      ],
      "metadata": {
        "id": "AKJ0EmdGT2lG",
        "outputId": "6440e5a5-0473-4d71-c605-61373129be5a",
        "colab": {
          "base_uri": "https://localhost:8080/"
        }
      },
      "execution_count": 17,
      "outputs": [
        {
          "output_type": "stream",
          "name": "stdout",
          "text": [
            "tensor([[-0.0035, -0.1315, -0.0037,  0.0356, -0.1314,  0.0392,  0.0416, -0.0160,\n",
            "         -0.0101, -0.0343]], device='cuda:0', grad_fn=<AddmmBackward0>)\n"
          ]
        }
      ]
    },
    {
      "cell_type": "code",
      "source": [
        "print(model.linear_relu_stack[0].weight)\n",
        "print(model.linear_relu_stack[0].bias)"
      ],
      "metadata": {
        "id": "keacoXsgVUht",
        "outputId": "2490ac2d-cb4e-495e-94db-c0b9bb2a9216",
        "colab": {
          "base_uri": "https://localhost:8080/"
        }
      },
      "execution_count": 14,
      "outputs": [
        {
          "output_type": "stream",
          "name": "stdout",
          "text": [
            "Parameter containing:\n",
            "tensor([[-0.0164, -0.0342, -0.0328,  ..., -0.0346,  0.0149,  0.0327],\n",
            "        [-0.0068,  0.0188,  0.0317,  ..., -0.0232,  0.0021,  0.0123],\n",
            "        [-0.0057,  0.0309,  0.0175,  ...,  0.0357, -0.0086,  0.0176],\n",
            "        ...,\n",
            "        [-0.0096,  0.0220,  0.0346,  ..., -0.0223,  0.0187, -0.0343],\n",
            "        [-0.0079, -0.0050,  0.0074,  ..., -0.0003, -0.0193, -0.0183],\n",
            "        [ 0.0229, -0.0074, -0.0078,  ...,  0.0056, -0.0064, -0.0309]],\n",
            "       device='cuda:0', requires_grad=True)\n",
            "Parameter containing:\n",
            "tensor([-3.0261e-02,  2.6911e-02,  3.1774e-02, -2.5712e-02, -9.4018e-03,\n",
            "        -4.1307e-04,  3.4679e-02,  2.4243e-02, -3.1599e-03,  8.7204e-03,\n",
            "        -3.0754e-03, -1.3899e-02, -3.5596e-02, -1.5333e-02, -3.2874e-02,\n",
            "        -2.0687e-02,  9.8735e-03, -2.7013e-02,  2.1065e-02,  2.5568e-02,\n",
            "         3.1003e-02,  1.5670e-02, -3.7678e-03,  1.3906e-02, -2.2742e-02,\n",
            "         4.5000e-03,  3.2461e-02, -1.3670e-02,  2.1341e-02,  1.9879e-03,\n",
            "        -1.8148e-02,  2.5944e-02,  1.0853e-02, -7.4245e-03,  1.5404e-02,\n",
            "         3.4273e-03,  2.5217e-03, -3.3264e-02, -2.1229e-02, -1.0715e-03,\n",
            "        -3.4641e-02, -1.1521e-02, -2.8360e-02, -2.5741e-02, -1.6865e-02,\n",
            "         2.6511e-02,  2.1282e-02,  3.0528e-02,  2.2243e-02, -3.2689e-02,\n",
            "        -2.8752e-02,  1.5278e-02,  2.4009e-02, -2.9570e-02, -1.0701e-02,\n",
            "        -1.5871e-02, -1.0352e-02, -3.2259e-02, -1.3745e-03,  4.5526e-03,\n",
            "         2.5937e-02, -1.1336e-02, -1.7886e-02, -8.1595e-03,  7.2391e-03,\n",
            "        -5.8852e-03, -1.1429e-02, -3.9454e-03,  2.4894e-02, -8.3067e-03,\n",
            "        -2.7428e-02,  3.6452e-03, -9.0050e-03, -2.5967e-02, -7.1350e-03,\n",
            "        -2.2466e-02,  1.8766e-02, -2.0010e-02, -3.2748e-02, -2.0090e-02,\n",
            "        -3.5482e-02,  2.7376e-02,  1.3755e-02, -2.2480e-02,  1.9288e-02,\n",
            "        -3.3392e-02, -3.5472e-02,  9.9582e-03,  1.5299e-02,  2.9640e-02,\n",
            "        -1.6244e-02,  6.0726e-03, -2.8656e-03,  6.9681e-03, -1.4812e-02,\n",
            "        -6.5228e-03,  3.4751e-02, -1.6709e-02, -1.5303e-02,  2.5381e-02,\n",
            "         1.2576e-03, -2.6037e-02, -2.2645e-02, -4.0110e-03,  3.3993e-02,\n",
            "         3.0807e-02, -1.8323e-02, -1.5428e-02,  2.2814e-02,  2.5216e-02,\n",
            "        -5.3393e-03, -2.0491e-02,  3.2758e-02, -8.5968e-03, -3.5468e-02,\n",
            "        -1.7880e-02,  3.1625e-02, -3.5398e-02, -1.0840e-02,  3.3035e-03,\n",
            "        -8.1757e-03,  9.8477e-03, -1.3387e-02,  2.6829e-03, -2.6321e-02,\n",
            "         8.6412e-03, -9.0542e-03, -1.3786e-02,  2.3252e-02, -2.9218e-02,\n",
            "        -2.0373e-02, -1.0113e-02, -2.7373e-02,  1.1813e-02, -2.4786e-02,\n",
            "         3.5473e-02, -2.8073e-02, -1.2595e-02,  4.1981e-04,  1.5891e-02,\n",
            "         8.4077e-03, -2.9398e-02, -1.4055e-02, -3.5565e-02, -1.8453e-02,\n",
            "         1.8102e-02, -7.2764e-03, -7.2893e-03,  2.6397e-02,  2.5949e-02,\n",
            "        -1.9713e-02,  9.1110e-03,  2.7158e-02, -1.2716e-02, -3.3590e-02,\n",
            "        -4.2032e-03,  2.6464e-03,  3.2081e-03,  3.0020e-02, -1.0060e-02,\n",
            "         2.9014e-02,  1.5027e-02, -1.8084e-02,  2.0702e-02,  9.6643e-03,\n",
            "        -5.4405e-03, -2.4885e-02, -2.8095e-02, -3.5165e-02,  1.3739e-02,\n",
            "         1.1786e-02, -1.0967e-02, -3.2373e-02,  3.5490e-02,  1.7080e-02,\n",
            "        -1.5152e-02, -1.4830e-02,  2.0811e-02, -2.5448e-02, -2.4317e-02,\n",
            "        -8.8805e-03, -3.3572e-02,  2.5137e-02, -3.3485e-03,  1.7503e-02,\n",
            "        -2.6364e-02,  3.1076e-02,  2.1867e-02, -3.2270e-02, -1.1377e-02,\n",
            "        -3.4949e-03,  1.9024e-02, -8.8213e-03,  5.5184e-03, -2.6942e-02,\n",
            "        -2.9234e-02,  6.0648e-03,  2.7895e-02,  2.2359e-02,  2.5366e-02,\n",
            "        -3.6805e-03, -1.2690e-02,  1.5689e-02,  1.6982e-03,  2.1151e-02,\n",
            "         6.5777e-03,  2.3583e-02, -2.8494e-02,  4.8410e-03,  1.0204e-02,\n",
            "         1.0240e-02, -2.7792e-02, -2.7158e-02, -1.8098e-02,  1.4575e-02,\n",
            "        -7.1328e-03,  1.3336e-02, -1.5910e-02,  3.4618e-02,  1.7784e-03,\n",
            "        -1.1251e-02,  1.2123e-02, -2.8841e-02, -2.2004e-02,  2.5666e-02,\n",
            "        -1.9115e-02, -5.3628e-03,  3.0119e-02, -1.3970e-03,  9.7525e-03,\n",
            "        -9.9735e-03, -3.4398e-02,  1.8069e-02,  2.6932e-02,  1.3646e-02,\n",
            "         1.7007e-02, -1.6714e-02, -2.5018e-02,  3.2905e-02,  2.6073e-02,\n",
            "        -3.2983e-02,  2.3737e-02,  2.2547e-02,  2.7976e-02,  2.7903e-02,\n",
            "         1.9294e-02,  1.6966e-02, -2.0606e-02, -1.7028e-03,  3.0612e-02,\n",
            "        -3.1398e-02,  3.3487e-02,  2.8053e-02, -1.0074e-02, -2.8115e-02,\n",
            "         2.7196e-02,  3.0143e-02,  2.9175e-02, -2.5811e-02,  2.9453e-02,\n",
            "         2.8926e-02,  2.5805e-02, -1.7574e-02, -1.9833e-03, -9.9047e-03,\n",
            "         1.7249e-02, -3.5935e-03, -2.5920e-02, -2.2667e-02, -1.7182e-02,\n",
            "         8.6064e-03, -2.1909e-02, -2.6035e-02, -1.6558e-02, -2.4336e-02,\n",
            "         3.4078e-02, -1.2410e-02, -9.7811e-03,  7.7592e-03,  1.4313e-02,\n",
            "        -7.6538e-03, -2.1834e-02, -1.4854e-04, -1.8344e-02, -2.4555e-02,\n",
            "        -2.7279e-02, -2.2633e-02,  7.5584e-03,  2.2749e-02,  3.3777e-02,\n",
            "        -1.2918e-03, -5.6101e-03, -6.4175e-03,  2.6539e-02, -2.1502e-02,\n",
            "         2.1147e-02, -2.6078e-02,  4.8588e-03, -2.7810e-02,  3.5480e-02,\n",
            "        -9.7177e-03, -2.5568e-02,  1.1500e-02,  7.9897e-03,  3.4345e-02,\n",
            "         1.4905e-02, -1.9200e-02,  5.6481e-03,  2.6801e-02, -3.1369e-02,\n",
            "         1.5479e-02, -5.7721e-03, -3.5187e-02, -2.2328e-02,  2.3625e-02,\n",
            "        -1.3189e-02,  3.5692e-02,  1.5638e-02,  1.2651e-02, -2.3684e-02,\n",
            "         3.2681e-02,  1.0115e-02,  1.2250e-02,  2.3932e-02, -2.0794e-02,\n",
            "         1.4883e-02, -2.0553e-02, -3.0473e-02, -1.2169e-02, -5.9131e-03,\n",
            "         2.9241e-03, -3.5362e-02, -3.0782e-02,  2.5077e-02, -9.4298e-03,\n",
            "        -2.0867e-02, -2.5139e-02, -3.2501e-02,  1.6055e-02, -1.2545e-02,\n",
            "        -3.1788e-02, -2.4142e-02,  5.6940e-03, -2.6279e-02,  1.6796e-02,\n",
            "        -1.7643e-02, -3.1696e-03, -3.0515e-02, -2.9513e-02, -2.0965e-02,\n",
            "         2.7035e-02, -1.6833e-02, -1.5998e-02,  1.2797e-02, -3.8007e-03,\n",
            "        -1.7068e-03,  4.7929e-03,  2.7647e-02,  2.8501e-02, -3.2035e-02,\n",
            "         2.3324e-02, -3.5516e-02, -5.7527e-03, -1.4137e-02,  3.0019e-04,\n",
            "         1.4530e-02, -8.2460e-03,  6.4567e-03,  2.5539e-02,  2.6714e-02,\n",
            "        -1.2882e-02,  2.4831e-02,  2.5080e-02, -3.4580e-02,  2.6122e-03,\n",
            "         2.5005e-02,  1.9524e-02,  1.9000e-02,  2.9818e-02, -3.5341e-04,\n",
            "        -1.7637e-02, -2.0675e-02, -1.7626e-03, -6.7088e-03, -1.3020e-02,\n",
            "         1.1562e-02,  3.1163e-02,  1.5417e-02, -1.7634e-02,  1.1997e-02,\n",
            "         2.7120e-02,  1.0152e-02, -1.1562e-02, -3.2870e-02, -2.0672e-03,\n",
            "        -1.5391e-02,  2.8794e-02, -7.1314e-03, -2.6333e-02, -3.5469e-02,\n",
            "        -1.7246e-02,  4.6868e-03,  1.8031e-03, -1.4688e-02, -1.6607e-02,\n",
            "         4.1696e-03, -2.2467e-02, -2.0942e-02,  3.1418e-02,  2.0543e-02,\n",
            "         1.7286e-02, -2.5509e-02,  1.9472e-02,  6.0255e-03, -9.9565e-05,\n",
            "        -4.9686e-03,  7.1231e-03,  3.1437e-02, -1.5194e-03, -2.3406e-02,\n",
            "         3.1945e-02, -2.4294e-02, -2.9709e-02, -2.3245e-03, -1.0753e-02,\n",
            "        -3.2869e-02, -2.5011e-03, -2.8680e-02, -1.0638e-02, -3.2425e-02,\n",
            "        -3.4556e-02, -1.2745e-02,  4.1785e-03,  2.2741e-02,  2.2709e-02,\n",
            "        -7.9114e-03, -2.0343e-03, -9.6548e-03, -3.0782e-02,  2.8125e-02,\n",
            "         5.3602e-03, -6.2096e-03,  2.1639e-02, -2.7582e-02,  2.6449e-02,\n",
            "         3.0945e-02,  2.6541e-02,  4.1991e-03,  2.3960e-02,  1.6297e-02,\n",
            "        -2.7303e-02,  1.0320e-02, -2.8964e-03, -1.2860e-02, -2.2277e-02,\n",
            "         1.8956e-02,  4.9092e-03,  1.7186e-02, -8.4678e-03,  3.3196e-02,\n",
            "        -1.7344e-02,  2.5726e-04, -6.6314e-03, -6.3720e-03,  2.5761e-02,\n",
            "         7.9157e-03, -2.5904e-02, -2.4635e-02, -4.6348e-04,  1.5760e-02,\n",
            "         1.5926e-02, -1.1943e-02, -3.1351e-02,  2.2292e-03, -1.2422e-02,\n",
            "        -2.1176e-02,  1.8294e-02,  2.4163e-02,  3.1181e-02, -1.4727e-02,\n",
            "         1.5791e-02,  3.1246e-02,  1.7554e-02,  1.4636e-02,  1.5821e-02,\n",
            "        -2.8493e-02, -1.0008e-02,  1.9305e-02,  2.7388e-02, -2.3490e-04,\n",
            "        -2.7759e-02, -4.1778e-03,  2.2945e-02,  2.9784e-02,  7.9938e-03,\n",
            "        -2.7949e-02,  2.3483e-02,  2.7266e-02, -3.5641e-02,  1.8666e-02,\n",
            "        -3.6487e-03,  4.1958e-03,  1.4231e-02,  1.3602e-02,  5.0364e-03,\n",
            "         1.4917e-02, -1.5701e-02,  1.3619e-02,  3.4795e-02,  2.2209e-02,\n",
            "         1.3384e-02, -3.1848e-02], device='cuda:0', requires_grad=True)\n"
          ]
        }
      ]
    },
    {
      "cell_type": "code",
      "source": [
        "# 计算第一层权重的均值和标准差\n",
        "weight = model.linear_relu_stack[0].weight.data\n",
        "print(f\"Mean: {weight.mean().item()}, Std: {weight.std().item()}\")\n"
      ],
      "metadata": {
        "id": "2mnb9ZVRVauW",
        "outputId": "e6337a31-7cd9-4439-8718-091af548d17f",
        "colab": {
          "base_uri": "https://localhost:8080/"
        }
      },
      "execution_count": 15,
      "outputs": [
        {
          "output_type": "stream",
          "name": "stdout",
          "text": [
            "Mean: -2.436938666505739e-05, Std: 0.020618092268705368\n"
          ]
        }
      ]
    },
    {
      "cell_type": "markdown",
      "metadata": {
        "id": "sEGIX49WJxr2"
      },
      "source": [
        "------------------------------------------------------------------------\n"
      ]
    },
    {
      "cell_type": "markdown",
      "metadata": {
        "id": "uXoxF0tUJxr2"
      },
      "source": [
        "Model Layers\n",
        "============\n",
        "\n",
        "Let\\'s break down the layers in the FashionMNIST model. To illustrate\n",
        "it, we will take a sample minibatch of 3 images of size 28x28 and see\n",
        "what happens to it as we pass it through the network.\n"
      ]
    },
    {
      "cell_type": "code",
      "execution_count": 18,
      "metadata": {
        "id": "XcbJG_9UJxr2",
        "outputId": "b7c54ae9-0f13-4d93-f5d1-629acecc1148",
        "colab": {
          "base_uri": "https://localhost:8080/"
        }
      },
      "outputs": [
        {
          "output_type": "stream",
          "name": "stdout",
          "text": [
            "torch.Size([3, 28, 28])\n"
          ]
        }
      ],
      "source": [
        "input_image = torch.rand(3,28,28)\n",
        "print(input_image.size())"
      ]
    },
    {
      "cell_type": "markdown",
      "metadata": {
        "id": "6BgRAuK2Jxr3"
      },
      "source": [
        "nn.Flatten\n",
        "==========\n",
        "\n",
        "We initialize the\n",
        "[nn.Flatten](https://pytorch.org/docs/stable/generated/torch.nn.Flatten.html)\n",
        "layer to convert each 2D 28x28 image into a contiguous array of 784\n",
        "pixel values ( the minibatch dimension (at dim=0) is maintained).\n"
      ]
    },
    {
      "cell_type": "code",
      "execution_count": 19,
      "metadata": {
        "id": "8fN3uZrjJxr3",
        "outputId": "74f19fbf-551d-480d-8499-306ca9e83bd8",
        "colab": {
          "base_uri": "https://localhost:8080/"
        }
      },
      "outputs": [
        {
          "output_type": "stream",
          "name": "stdout",
          "text": [
            "torch.Size([3, 784])\n"
          ]
        }
      ],
      "source": [
        "flatten = nn.Flatten()\n",
        "flat_image = flatten(input_image)\n",
        "print(flat_image.size())"
      ]
    },
    {
      "cell_type": "markdown",
      "metadata": {
        "id": "pxI5t-_QJxr3"
      },
      "source": [
        "nn.Linear\n",
        "=========\n",
        "\n",
        "The [linear\n",
        "layer](https://pytorch.org/docs/stable/generated/torch.nn.Linear.html)\n",
        "is a module that applies a linear transformation on the input using its\n",
        "stored weights and biases.\n"
      ]
    },
    {
      "cell_type": "code",
      "execution_count": 20,
      "metadata": {
        "id": "8eHpczBGJxr3",
        "outputId": "8b3cf337-f0fd-48a8-dbd7-b3c0ec39b6c1",
        "colab": {
          "base_uri": "https://localhost:8080/"
        }
      },
      "outputs": [
        {
          "output_type": "stream",
          "name": "stdout",
          "text": [
            "torch.Size([3, 20])\n"
          ]
        }
      ],
      "source": [
        "layer1 = nn.Linear(in_features=28*28, out_features=20)\n",
        "hidden1 = layer1(flat_image)\n",
        "print(hidden1.size())"
      ]
    },
    {
      "cell_type": "markdown",
      "metadata": {
        "id": "4QAV1OIHJxr3"
      },
      "source": [
        "nn.ReLU\n",
        "=======\n",
        "\n",
        "Non-linear activations are what create the complex mappings between the\n",
        "model\\'s inputs and outputs. They are applied after linear\n",
        "transformations to introduce *nonlinearity*, helping neural networks\n",
        "learn a wide variety of phenomena.\n",
        "\n",
        "In this model, we use\n",
        "[nn.ReLU](https://pytorch.org/docs/stable/generated/torch.nn.ReLU.html)\n",
        "between our linear layers, but there\\'s other activations to introduce\n",
        "non-linearity in your model.\n"
      ]
    },
    {
      "cell_type": "code",
      "execution_count": 21,
      "metadata": {
        "id": "8qOHFP0HJxr3",
        "outputId": "226a47ec-dcb4-4191-bfad-d16759fad763",
        "colab": {
          "base_uri": "https://localhost:8080/"
        }
      },
      "outputs": [
        {
          "output_type": "stream",
          "name": "stdout",
          "text": [
            "Before ReLU: tensor([[-0.4812,  0.1753, -0.0503, -0.0217,  0.1062, -0.3995, -0.1282, -0.1224,\n",
            "          0.1303, -0.2628, -0.0568,  0.2910,  0.6895, -0.2325,  0.4343,  0.4368,\n",
            "          0.3807,  0.6573, -0.2607, -0.2504],\n",
            "        [-0.1404,  0.2778, -0.2507, -0.1662,  0.3757, -0.0464, -0.1460,  0.0906,\n",
            "         -0.1820, -0.4148,  0.2344,  0.5214,  0.4365,  0.0109,  0.1321,  0.5000,\n",
            "          0.3920,  0.5728, -0.0631, -0.3561],\n",
            "        [-0.5022,  0.3529, -0.4123, -0.2893, -0.0735, -0.3184,  0.0121,  0.2385,\n",
            "          0.0726, -0.4496,  0.1570,  0.4704,  0.2880,  0.1276, -0.0174,  0.0675,\n",
            "          0.2984,  0.3317, -0.2588, -0.4140]], grad_fn=<AddmmBackward0>)\n",
            "\n",
            "\n",
            "After ReLU: tensor([[0.0000, 0.1753, 0.0000, 0.0000, 0.1062, 0.0000, 0.0000, 0.0000, 0.1303,\n",
            "         0.0000, 0.0000, 0.2910, 0.6895, 0.0000, 0.4343, 0.4368, 0.3807, 0.6573,\n",
            "         0.0000, 0.0000],\n",
            "        [0.0000, 0.2778, 0.0000, 0.0000, 0.3757, 0.0000, 0.0000, 0.0906, 0.0000,\n",
            "         0.0000, 0.2344, 0.5214, 0.4365, 0.0109, 0.1321, 0.5000, 0.3920, 0.5728,\n",
            "         0.0000, 0.0000],\n",
            "        [0.0000, 0.3529, 0.0000, 0.0000, 0.0000, 0.0000, 0.0121, 0.2385, 0.0726,\n",
            "         0.0000, 0.1570, 0.4704, 0.2880, 0.1276, 0.0000, 0.0675, 0.2984, 0.3317,\n",
            "         0.0000, 0.0000]], grad_fn=<ReluBackward0>)\n"
          ]
        }
      ],
      "source": [
        "print(f\"Before ReLU: {hidden1}\\n\\n\")\n",
        "hidden1 = nn.ReLU()(hidden1)\n",
        "print(f\"After ReLU: {hidden1}\")"
      ]
    },
    {
      "cell_type": "markdown",
      "metadata": {
        "id": "LSYxEYLmJxr4"
      },
      "source": [
        "nn.Sequential\n",
        "=============\n",
        "\n",
        "[nn.Sequential](https://pytorch.org/docs/stable/generated/torch.nn.Sequential.html)\n",
        "is an ordered container of modules. The data is passed through all the\n",
        "modules in the same order as defined. You can use sequential containers\n",
        "to put together a quick network like `seq_modules`.\n"
      ]
    },
    {
      "cell_type": "code",
      "execution_count": 22,
      "metadata": {
        "id": "rKtLGSl0Jxr4"
      },
      "outputs": [],
      "source": [
        "seq_modules = nn.Sequential(\n",
        "    flatten,\n",
        "    layer1,\n",
        "    nn.ReLU(),\n",
        "    nn.Linear(20, 10)\n",
        ")\n",
        "input_image = torch.rand(3,28,28)\n",
        "logits = seq_modules(input_image)"
      ]
    },
    {
      "cell_type": "markdown",
      "metadata": {
        "id": "jK7J3asrJxr4"
      },
      "source": [
        "nn.Softmax\n",
        "==========\n",
        "\n",
        "The last linear layer of the neural network returns [logits]{.title-ref}\n",
        "- raw values in \\[-infty, infty\\] - which are passed to the\n",
        "[nn.Softmax](https://pytorch.org/docs/stable/generated/torch.nn.Softmax.html)\n",
        "module. The logits are scaled to values \\[0, 1\\] representing the\n",
        "model\\'s predicted probabilities for each class. `dim` parameter\n",
        "indicates the dimension along which the values must sum to 1.\n"
      ]
    },
    {
      "cell_type": "code",
      "execution_count": 23,
      "metadata": {
        "id": "9SHOifb6Jxr4"
      },
      "outputs": [],
      "source": [
        "softmax = nn.Softmax(dim=1)\n",
        "pred_probab = softmax(logits)"
      ]
    },
    {
      "cell_type": "markdown",
      "metadata": {
        "id": "k8ad64MCJxr4"
      },
      "source": [
        "Model Parameters\n",
        "================\n",
        "\n",
        "Many layers inside a neural network are *parameterized*, i.e. have\n",
        "associated weights and biases that are optimized during training.\n",
        "Subclassing `nn.Module` automatically tracks all fields defined inside\n",
        "your model object, and makes all parameters accessible using your\n",
        "model\\'s `parameters()` or `named_parameters()` methods.\n",
        "\n",
        "In this example, we iterate over each parameter, and print its size and\n",
        "a preview of its values.\n"
      ]
    },
    {
      "cell_type": "code",
      "execution_count": 24,
      "metadata": {
        "id": "F98DqxnKJxr4",
        "outputId": "8ece0bd2-d1fb-4843-b67e-4014b5ce0130",
        "colab": {
          "base_uri": "https://localhost:8080/"
        }
      },
      "outputs": [
        {
          "output_type": "stream",
          "name": "stdout",
          "text": [
            "Model structure: NeuralNetwork(\n",
            "  (flatten): Flatten(start_dim=1, end_dim=-1)\n",
            "  (linear_relu_stack): Sequential(\n",
            "    (0): Linear(in_features=784, out_features=512, bias=True)\n",
            "    (1): ReLU()\n",
            "    (2): Linear(in_features=512, out_features=512, bias=True)\n",
            "    (3): ReLU()\n",
            "    (4): Linear(in_features=512, out_features=10, bias=True)\n",
            "  )\n",
            ")\n",
            "\n",
            "\n",
            "Layer: linear_relu_stack.0.weight | Size: torch.Size([512, 784]) | Values : tensor([[-0.0164, -0.0342, -0.0328,  ..., -0.0346,  0.0149,  0.0327],\n",
            "        [-0.0068,  0.0188,  0.0317,  ..., -0.0232,  0.0021,  0.0123]],\n",
            "       device='cuda:0', grad_fn=<SliceBackward0>) \n",
            "\n",
            "Layer: linear_relu_stack.0.bias | Size: torch.Size([512]) | Values : tensor([-0.0303,  0.0269], device='cuda:0', grad_fn=<SliceBackward0>) \n",
            "\n",
            "Layer: linear_relu_stack.2.weight | Size: torch.Size([512, 512]) | Values : tensor([[ 0.0304,  0.0341,  0.0006,  ..., -0.0204,  0.0363, -0.0362],\n",
            "        [-0.0032,  0.0134,  0.0303,  ..., -0.0257, -0.0116, -0.0270]],\n",
            "       device='cuda:0', grad_fn=<SliceBackward0>) \n",
            "\n",
            "Layer: linear_relu_stack.2.bias | Size: torch.Size([512]) | Values : tensor([ 0.0255, -0.0350], device='cuda:0', grad_fn=<SliceBackward0>) \n",
            "\n",
            "Layer: linear_relu_stack.4.weight | Size: torch.Size([10, 512]) | Values : tensor([[-0.0333,  0.0230, -0.0204,  ..., -0.0398, -0.0082, -0.0214],\n",
            "        [ 0.0253,  0.0365,  0.0310,  ..., -0.0146, -0.0322,  0.0048]],\n",
            "       device='cuda:0', grad_fn=<SliceBackward0>) \n",
            "\n",
            "Layer: linear_relu_stack.4.bias | Size: torch.Size([10]) | Values : tensor([-0.0394, -0.0402], device='cuda:0', grad_fn=<SliceBackward0>) \n",
            "\n"
          ]
        }
      ],
      "source": [
        "print(f\"Model structure: {model}\\n\\n\")\n",
        "\n",
        "for name, param in model.named_parameters():\n",
        "    print(f\"Layer: {name} | Size: {param.size()} | Values : {param[:2]} \\n\")"
      ]
    },
    {
      "cell_type": "markdown",
      "metadata": {
        "id": "C1PVjAn1Jxr4"
      },
      "source": [
        "------------------------------------------------------------------------\n"
      ]
    },
    {
      "cell_type": "markdown",
      "metadata": {
        "id": "k1nJUZPSJxr4"
      },
      "source": [
        "Further Reading\n",
        "===============\n",
        "\n",
        "-   [torch.nn API](https://pytorch.org/docs/stable/nn.html)\n"
      ]
    }
  ],
  "metadata": {
    "kernelspec": {
      "display_name": "Python 3",
      "name": "python3"
    },
    "language_info": {
      "codemirror_mode": {
        "name": "ipython",
        "version": 3
      },
      "file_extension": ".py",
      "mimetype": "text/x-python",
      "name": "python",
      "nbconvert_exporter": "python",
      "pygments_lexer": "ipython3",
      "version": "3.10.12"
    },
    "colab": {
      "provenance": [],
      "gpuType": "T4",
      "include_colab_link": true
    },
    "accelerator": "GPU"
  },
  "nbformat": 4,
  "nbformat_minor": 0
}