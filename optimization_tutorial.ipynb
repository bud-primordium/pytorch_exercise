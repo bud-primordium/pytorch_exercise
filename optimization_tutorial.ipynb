{
  "cells": [
    {
      "cell_type": "markdown",
      "metadata": {
        "id": "view-in-github",
        "colab_type": "text"
      },
      "source": [
        "<a href=\"https://colab.research.google.com/github/bud-primordium/pytorch_exercise/blob/main/optimization_tutorial.ipynb\" target=\"_parent\"><img src=\"https://colab.research.google.com/assets/colab-badge.svg\" alt=\"Open In Colab\"/></a>"
      ]
    },
    {
      "cell_type": "code",
      "execution_count": 1,
      "metadata": {
        "id": "1YxVh2xca4P2"
      },
      "outputs": [],
      "source": [
        "# For tips on running notebooks in Google Colab, see\n",
        "# https://pytorch.org/tutorials/beginner/colab\n",
        "%matplotlib inline"
      ]
    },
    {
      "cell_type": "markdown",
      "metadata": {
        "id": "QCKr9GQEa4P_"
      },
      "source": [
        "[Learn the Basics](intro.html) \\|\\|\n",
        "[Quickstart](quickstart_tutorial.html) \\|\\|\n",
        "[Tensors](tensorqs_tutorial.html) \\|\\| [Datasets &\n",
        "DataLoaders](data_tutorial.html) \\|\\|\n",
        "[Transforms](transforms_tutorial.html) \\|\\| [Build\n",
        "Model](buildmodel_tutorial.html) \\|\\|\n",
        "[Autograd](autogradqs_tutorial.html) \\|\\| **Optimization** \\|\\| [Save &\n",
        "Load Model](saveloadrun_tutorial.html)\n",
        "\n",
        "Optimizing Model Parameters\n",
        "===========================\n",
        "\n",
        "Now that we have a model and data it\\'s time to train, validate and test\n",
        "our model by optimizing its parameters on our data. Training a model is\n",
        "an iterative process; in each iteration the model makes a guess about\n",
        "the output, calculates the error in its guess (*loss*), collects the\n",
        "derivatives of the error with respect to its parameters (as we saw in\n",
        "the [previous section](autograd_tutorial.html)), and **optimizes** these\n",
        "parameters using gradient descent. For a more detailed walkthrough of\n",
        "this process, check out this video on [backpropagation from\n",
        "3Blue1Brown](https://www.youtube.com/watch?v=tIeHLnjs5U8).\n",
        "\n",
        "Prerequisite Code\n",
        "-----------------\n",
        "\n",
        "We load the code from the previous sections on [Datasets &\n",
        "DataLoaders](data_tutorial.html) and [Build\n",
        "Model](buildmodel_tutorial.html).\n"
      ]
    },
    {
      "cell_type": "code",
      "execution_count": 2,
      "metadata": {
        "id": "C1Q4UYSza4QC",
        "outputId": "a78ec19d-c5cb-438e-a983-8ec3263040ee",
        "colab": {
          "base_uri": "https://localhost:8080/"
        }
      },
      "outputs": [
        {
          "metadata": {
            "tags": null
          },
          "name": "stderr",
          "output_type": "stream",
          "text": [
            "100%|██████████| 26.4M/26.4M [00:01<00:00, 13.3MB/s]\n",
            "100%|██████████| 29.5k/29.5k [00:00<00:00, 209kB/s]\n",
            "100%|██████████| 4.42M/4.42M [00:01<00:00, 3.90MB/s]\n",
            "100%|██████████| 5.15k/5.15k [00:00<00:00, 9.91MB/s]\n"
          ]
        }
      ],
      "source": [
        "import torch\n",
        "from torch import nn\n",
        "from torch.utils.data import DataLoader\n",
        "from torchvision import datasets\n",
        "from torchvision.transforms import ToTensor\n",
        "\n",
        "training_data = datasets.FashionMNIST(\n",
        "    root=\"data\",\n",
        "    train=True,\n",
        "    download=True,\n",
        "    transform=ToTensor()\n",
        ")\n",
        "\n",
        "test_data = datasets.FashionMNIST(\n",
        "    root=\"data\",\n",
        "    train=False,\n",
        "    download=True,\n",
        "    transform=ToTensor()\n",
        ")\n",
        "\n",
        "train_dataloader = DataLoader(training_data, batch_size=64)\n",
        "test_dataloader = DataLoader(test_data, batch_size=64)\n",
        "\n",
        "class NeuralNetwork(nn.Module):\n",
        "    def __init__(self):\n",
        "        super().__init__()\n",
        "        self.flatten = nn.Flatten()\n",
        "        self.linear_relu_stack = nn.Sequential(\n",
        "            nn.Linear(28*28, 512),\n",
        "            nn.ReLU(),\n",
        "            nn.Linear(512, 512),\n",
        "            nn.ReLU(),\n",
        "            nn.Linear(512, 10),\n",
        "        )\n",
        "\n",
        "    def forward(self, x):\n",
        "        x = self.flatten(x)\n",
        "        logits = self.linear_relu_stack(x)\n",
        "        return logits\n",
        "\n",
        "model = NeuralNetwork()"
      ]
    },
    {
      "cell_type": "markdown",
      "metadata": {
        "id": "VD3ecXp7a4QE"
      },
      "source": [
        "Hyperparameters\n",
        "===============\n",
        "\n",
        "Hyperparameters are adjustable parameters that let you control the model\n",
        "optimization process. Different hyperparameter values can impact model\n",
        "training and convergence rates ([read\n",
        "more](https://pytorch.org/tutorials/beginner/hyperparameter_tuning_tutorial.html)\n",
        "about hyperparameter tuning)\n",
        "\n",
        "We define the following hyperparameters for training:\n",
        "\n",
        ":   -   **Number of Epochs** - the number times to iterate over the\n",
        "        dataset\n",
        "    -   **Batch Size** - the number of data samples propagated through\n",
        "        the network before the parameters are updated\n",
        "    -   **Learning Rate** - how much to update models parameters at each\n",
        "        batch/epoch. Smaller values yield slow learning speed, while\n",
        "        large values may result in unpredictable behavior during\n",
        "        training.\n"
      ]
    },
    {
      "cell_type": "code",
      "execution_count": 3,
      "metadata": {
        "id": "iPwPZp2ta4QF"
      },
      "outputs": [],
      "source": [
        "learning_rate = 1e-3\n",
        "batch_size = 64\n",
        "epochs = 5"
      ]
    },
    {
      "cell_type": "markdown",
      "metadata": {
        "id": "BOkuGKkia4QG"
      },
      "source": [
        "Optimization Loop\n",
        "=================\n",
        "\n",
        "Once we set our hyperparameters, we can then train and optimize our\n",
        "model with an optimization loop. Each iteration of the optimization loop\n",
        "is called an **epoch**.\n",
        "\n",
        "Each epoch consists of two main parts:\n",
        "\n",
        ":   -   **The Train Loop** - iterate over the training dataset and try\n",
        "        to converge to optimal parameters.\n",
        "    -   **The Validation/Test Loop** - iterate over the test dataset to\n",
        "        check if model performance is improving.\n",
        "\n",
        "Let\\'s briefly familiarize ourselves with some of the concepts used in\n",
        "the training loop. Jump ahead to see the\n",
        "`full-impl-label`{.interpreted-text role=\"ref\"} of the optimization\n",
        "loop.\n",
        "\n",
        "Loss Function\n",
        "-------------\n",
        "\n",
        "When presented with some training data, our untrained network is likely\n",
        "not to give the correct answer. **Loss function** measures the degree of\n",
        "dissimilarity of obtained result to the target value, and it is the loss\n",
        "function that we want to minimize during training. To calculate the loss\n",
        "we make a prediction using the inputs of our given data sample and\n",
        "compare it against the true data label value.\n",
        "\n",
        "Common loss functions include\n",
        "[nn.MSELoss](https://pytorch.org/docs/stable/generated/torch.nn.MSELoss.html#torch.nn.MSELoss)\n",
        "(Mean Square Error) for regression tasks, and\n",
        "[nn.NLLLoss](https://pytorch.org/docs/stable/generated/torch.nn.NLLLoss.html#torch.nn.NLLLoss)\n",
        "(Negative Log Likelihood) for classification.\n",
        "[nn.CrossEntropyLoss](https://pytorch.org/docs/stable/generated/torch.nn.CrossEntropyLoss.html#torch.nn.CrossEntropyLoss)\n",
        "combines `nn.LogSoftmax` and `nn.NLLLoss`.\n",
        "\n",
        "We pass our model\\'s output logits to `nn.CrossEntropyLoss`, which will\n",
        "normalize the logits and compute the prediction error.\n"
      ]
    },
    {
      "cell_type": "code",
      "execution_count": 4,
      "metadata": {
        "id": "G16k-q7Ea4QH"
      },
      "outputs": [],
      "source": [
        "# Initialize the loss function\n",
        "loss_fn = nn.CrossEntropyLoss()"
      ]
    },
    {
      "cell_type": "markdown",
      "metadata": {
        "id": "2wN6bPY3a4QI"
      },
      "source": [
        "Optimizer\n",
        "=========\n",
        "\n",
        "Optimization is the process of adjusting model parameters to reduce\n",
        "model error in each training step. **Optimization algorithms** define\n",
        "how this process is performed (in this example we use Stochastic\n",
        "Gradient Descent). All optimization logic is encapsulated in the\n",
        "`optimizer` object. Here, we use the SGD optimizer; additionally, there\n",
        "are many [different\n",
        "optimizers](https://pytorch.org/docs/stable/optim.html) available in\n",
        "PyTorch such as ADAM and RMSProp, that work better for different kinds\n",
        "of models and data.\n",
        "\n",
        "We initialize the optimizer by registering the model\\'s parameters that\n",
        "need to be trained, and passing in the learning rate hyperparameter.\n"
      ]
    },
    {
      "cell_type": "code",
      "execution_count": 5,
      "metadata": {
        "id": "XAQEM7noa4QI"
      },
      "outputs": [],
      "source": [
        "optimizer = torch.optim.SGD(model.parameters(), lr=learning_rate)"
      ]
    },
    {
      "cell_type": "markdown",
      "metadata": {
        "id": "cgu-ostca4QJ"
      },
      "source": [
        "Inside the training loop, optimization happens in three steps:\n",
        "\n",
        ":   -   Call `optimizer.zero_grad()` to reset the gradients of model\n",
        "        parameters. Gradients by default add up; to prevent\n",
        "        double-counting, we explicitly zero them at each iteration.\n",
        "    -   Backpropagate the prediction loss with a call to\n",
        "        `loss.backward()`. PyTorch deposits the gradients of the loss\n",
        "        w.r.t. each parameter.\n",
        "    -   Once we have our gradients, we call `optimizer.step()` to adjust\n",
        "        the parameters by the gradients collected in the backward pass.\n"
      ]
    },
    {
      "cell_type": "markdown",
      "metadata": {
        "id": "DGPk-KLYa4QJ"
      },
      "source": [
        "Full Implementation {#full-impl-label}\n",
        "===================\n",
        "\n",
        "We define `train_loop` that loops over our optimization code, and\n",
        "`test_loop` that evaluates the model\\'s performance against our test\n",
        "data.\n"
      ]
    },
    {
      "cell_type": "code",
      "execution_count": 6,
      "metadata": {
        "id": "57O7BhORa4QK"
      },
      "outputs": [],
      "source": [
        "def train_loop(dataloader, model, loss_fn, optimizer):\n",
        "    size = len(dataloader.dataset)\n",
        "    # Set the model to training mode - important for batch normalization and dropout layers\n",
        "    # Unnecessary in this situation but added for best practices\n",
        "    model.train()\n",
        "    for batch, (X, y) in enumerate(dataloader):\n",
        "        # Compute prediction and loss\n",
        "        pred = model(X)\n",
        "        loss = loss_fn(pred, y)\n",
        "\n",
        "        # Backpropagation\n",
        "        loss.backward()\n",
        "        optimizer.step()\n",
        "        optimizer.zero_grad()\n",
        "\n",
        "        if batch % 100 == 0:\n",
        "            loss, current = loss.item(), batch * batch_size + len(X)\n",
        "            print(f\"loss: {loss:>7f}  [{current:>5d}/{size:>5d}]\")\n",
        "\n",
        "\n",
        "def test_loop(dataloader, model, loss_fn):\n",
        "    # Set the model to evaluation mode - important for batch normalization and dropout layers\n",
        "    # Unnecessary in this situation but added for best practices\n",
        "    model.eval()\n",
        "    size = len(dataloader.dataset)\n",
        "    num_batches = len(dataloader)\n",
        "    test_loss, correct = 0, 0\n",
        "\n",
        "    # Evaluating the model with torch.no_grad() ensures that no gradients are computed during test mode\n",
        "    # also serves to reduce unnecessary gradient computations and memory usage for tensors with requires_grad=True\n",
        "    with torch.no_grad():\n",
        "        for X, y in dataloader:\n",
        "            pred = model(X)\n",
        "            test_loss += loss_fn(pred, y).item()\n",
        "            correct += (pred.argmax(1) == y).type(torch.float).sum().item()\n",
        "\n",
        "    test_loss /= num_batches\n",
        "    correct /= size\n",
        "    print(f\"Test Error: \\n Accuracy: {(100*correct):>0.1f}%, Avg loss: {test_loss:>8f} \\n\")"
      ]
    },
    {
      "cell_type": "markdown",
      "metadata": {
        "id": "FApo7Yria4QK"
      },
      "source": [
        "We initialize the loss function and optimizer, and pass it to\n",
        "`train_loop` and `test_loop`. Feel free to increase the number of epochs\n",
        "to track the model\\'s improving performance.\n"
      ]
    },
    {
      "cell_type": "code",
      "execution_count": 7,
      "metadata": {
        "id": "sBJKBYc9a4QL",
        "outputId": "96cb9a09-1799-48b9-fc5f-8a8883175f84",
        "colab": {
          "base_uri": "https://localhost:8080/"
        }
      },
      "outputs": [
        {
          "output_type": "stream",
          "name": "stdout",
          "text": [
            "Epoch 1\n",
            "-------------------------------\n",
            "loss: 2.323663  [   64/60000]\n",
            "loss: 2.300030  [ 6464/60000]\n",
            "loss: 2.280264  [12864/60000]\n",
            "loss: 2.260129  [19264/60000]\n",
            "loss: 2.250965  [25664/60000]\n",
            "loss: 2.228854  [32064/60000]\n",
            "loss: 2.223515  [38464/60000]\n",
            "loss: 2.197072  [44864/60000]\n",
            "loss: 2.195782  [51264/60000]\n",
            "loss: 2.144463  [57664/60000]\n",
            "Test Error: \n",
            " Accuracy: 47.9%, Avg loss: 2.150663 \n",
            "\n",
            "Epoch 2\n",
            "-------------------------------\n",
            "loss: 2.176869  [   64/60000]\n",
            "loss: 2.153156  [ 6464/60000]\n",
            "loss: 2.095334  [12864/60000]\n",
            "loss: 2.101016  [19264/60000]\n",
            "loss: 2.056387  [25664/60000]\n",
            "loss: 1.997933  [32064/60000]\n",
            "loss: 2.014761  [38464/60000]\n",
            "loss: 1.935914  [44864/60000]\n",
            "loss: 1.943498  [51264/60000]\n",
            "loss: 1.851881  [57664/60000]\n",
            "Test Error: \n",
            " Accuracy: 57.5%, Avg loss: 1.865344 \n",
            "\n",
            "Epoch 3\n",
            "-------------------------------\n",
            "loss: 1.912784  [   64/60000]\n",
            "loss: 1.869470  [ 6464/60000]\n",
            "loss: 1.757488  [12864/60000]\n",
            "loss: 1.787362  [19264/60000]\n",
            "loss: 1.693387  [25664/60000]\n",
            "loss: 1.643421  [32064/60000]\n",
            "loss: 1.655579  [38464/60000]\n",
            "loss: 1.565738  [44864/60000]\n",
            "loss: 1.594504  [51264/60000]\n",
            "loss: 1.474103  [57664/60000]\n",
            "Test Error: \n",
            " Accuracy: 60.7%, Avg loss: 1.508453 \n",
            "\n",
            "Epoch 4\n",
            "-------------------------------\n",
            "loss: 1.584715  [   64/60000]\n",
            "loss: 1.543631  [ 6464/60000]\n",
            "loss: 1.402554  [12864/60000]\n",
            "loss: 1.460988  [19264/60000]\n",
            "loss: 1.363222  [25664/60000]\n",
            "loss: 1.352957  [32064/60000]\n",
            "loss: 1.361676  [38464/60000]\n",
            "loss: 1.296317  [44864/60000]\n",
            "loss: 1.330504  [51264/60000]\n",
            "loss: 1.220355  [57664/60000]\n",
            "Test Error: \n",
            " Accuracy: 63.1%, Avg loss: 1.255900 \n",
            "\n",
            "Epoch 5\n",
            "-------------------------------\n",
            "loss: 1.339036  [   64/60000]\n",
            "loss: 1.315518  [ 6464/60000]\n",
            "loss: 1.156564  [12864/60000]\n",
            "loss: 1.248447  [19264/60000]\n",
            "loss: 1.139440  [25664/60000]\n",
            "loss: 1.157817  [32064/60000]\n",
            "loss: 1.176582  [38464/60000]\n",
            "loss: 1.123744  [44864/60000]\n",
            "loss: 1.159310  [51264/60000]\n",
            "loss: 1.065325  [57664/60000]\n",
            "Test Error: \n",
            " Accuracy: 64.6%, Avg loss: 1.094176 \n",
            "\n",
            "Epoch 6\n",
            "-------------------------------\n",
            "loss: 1.170766  [   64/60000]\n",
            "loss: 1.167392  [ 6464/60000]\n",
            "loss: 0.990751  [12864/60000]\n",
            "loss: 1.111778  [19264/60000]\n",
            "loss: 0.997138  [25664/60000]\n",
            "loss: 1.023761  [32064/60000]\n",
            "loss: 1.059449  [38464/60000]\n",
            "loss: 1.012051  [44864/60000]\n",
            "loss: 1.045080  [51264/60000]\n",
            "loss: 0.965626  [57664/60000]\n",
            "Test Error: \n",
            " Accuracy: 65.9%, Avg loss: 0.987726 \n",
            "\n",
            "Epoch 7\n",
            "-------------------------------\n",
            "loss: 1.051535  [   64/60000]\n",
            "loss: 1.069633  [ 6464/60000]\n",
            "loss: 0.876376  [12864/60000]\n",
            "loss: 1.019639  [19264/60000]\n",
            "loss: 0.905377  [25664/60000]\n",
            "loss: 0.928013  [32064/60000]\n",
            "loss: 0.982051  [38464/60000]\n",
            "loss: 0.939133  [44864/60000]\n",
            "loss: 0.964722  [51264/60000]\n",
            "loss: 0.898284  [57664/60000]\n",
            "Test Error: \n",
            " Accuracy: 66.8%, Avg loss: 0.914383 \n",
            "\n",
            "Epoch 8\n",
            "-------------------------------\n",
            "loss: 0.962967  [   64/60000]\n",
            "loss: 1.001234  [ 6464/60000]\n",
            "loss: 0.794225  [12864/60000]\n",
            "loss: 0.954086  [19264/60000]\n",
            "loss: 0.843455  [25664/60000]\n",
            "loss: 0.856800  [32064/60000]\n",
            "loss: 0.927266  [38464/60000]\n",
            "loss: 0.889911  [44864/60000]\n",
            "loss: 0.905957  [51264/60000]\n",
            "loss: 0.849508  [57664/60000]\n",
            "Test Error: \n",
            " Accuracy: 67.9%, Avg loss: 0.861176 \n",
            "\n",
            "Epoch 9\n",
            "-------------------------------\n",
            "loss: 0.894548  [   64/60000]\n",
            "loss: 0.949780  [ 6464/60000]\n",
            "loss: 0.732510  [12864/60000]\n",
            "loss: 0.905317  [19264/60000]\n",
            "loss: 0.798989  [25664/60000]\n",
            "loss: 0.802543  [32064/60000]\n",
            "loss: 0.885839  [38464/60000]\n",
            "loss: 0.855681  [44864/60000]\n",
            "loss: 0.861848  [51264/60000]\n",
            "loss: 0.811920  [57664/60000]\n",
            "Test Error: \n",
            " Accuracy: 69.1%, Avg loss: 0.820752 \n",
            "\n",
            "Epoch 10\n",
            "-------------------------------\n",
            "loss: 0.840277  [   64/60000]\n",
            "loss: 0.908742  [ 6464/60000]\n",
            "loss: 0.684360  [12864/60000]\n",
            "loss: 0.868062  [19264/60000]\n",
            "loss: 0.764898  [25664/60000]\n",
            "loss: 0.760532  [32064/60000]\n",
            "loss: 0.852359  [38464/60000]\n",
            "loss: 0.830636  [44864/60000]\n",
            "loss: 0.827589  [51264/60000]\n",
            "loss: 0.781656  [57664/60000]\n",
            "Test Error: \n",
            " Accuracy: 70.5%, Avg loss: 0.788651 \n",
            "\n",
            "Done!\n"
          ]
        }
      ],
      "source": [
        "loss_fn = nn.CrossEntropyLoss()\n",
        "optimizer = torch.optim.SGD(model.parameters(), lr=learning_rate)\n",
        "\n",
        "epochs = 10\n",
        "for t in range(epochs):\n",
        "    print(f\"Epoch {t+1}\\n-------------------------------\")\n",
        "    train_loop(train_dataloader, model, loss_fn, optimizer)\n",
        "    test_loop(test_dataloader, model, loss_fn)\n",
        "print(\"Done!\")"
      ]
    },
    {
      "cell_type": "markdown",
      "metadata": {
        "id": "JBbXJObna4QM"
      },
      "source": [
        "Further Reading\n",
        "===============\n",
        "\n",
        "-   [Loss\n",
        "    Functions](https://pytorch.org/docs/stable/nn.html#loss-functions)\n",
        "-   [torch.optim](https://pytorch.org/docs/stable/optim.html)\n",
        "-   [Warmstart Training a\n",
        "    Model](https://pytorch.org/tutorials/recipes/recipes/warmstarting_model_using_parameters_from_a_different_model.html)\n"
      ]
    }
  ],
  "metadata": {
    "kernelspec": {
      "display_name": "Python 3",
      "language": "python",
      "name": "python3"
    },
    "language_info": {
      "codemirror_mode": {
        "name": "ipython",
        "version": 3
      },
      "file_extension": ".py",
      "mimetype": "text/x-python",
      "name": "python",
      "nbconvert_exporter": "python",
      "pygments_lexer": "ipython3",
      "version": "3.10.12"
    },
    "colab": {
      "provenance": [],
      "include_colab_link": true
    }
  },
  "nbformat": 4,
  "nbformat_minor": 0
}